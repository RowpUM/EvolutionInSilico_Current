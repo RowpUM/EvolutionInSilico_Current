{
 "cells": [
  {
   "cell_type": "code",
   "execution_count": 2,
   "metadata": {},
   "outputs": [],
   "source": [
    "import numpy as np\n",
    "import random"
   ]
  },
  {
   "cell_type": "code",
   "execution_count": 244,
   "metadata": {},
   "outputs": [],
   "source": [
    "payoff_matrix = [[1.00, 0.65],\n",
    "                 [1.99, 0.83]]\n",
    "\n",
    "COOPERATOR = 0\n",
    "DEFECTOR = 1"
   ]
  },
  {
   "cell_type": "code",
   "execution_count": 326,
   "metadata": {},
   "outputs": [],
   "source": [
    "virus_pop_size = 100\n",
    "cell_pop_size = 30\n",
    "\n",
    "virus_population = random.choices([COOPERATOR, DEFECTOR], k=virus_pop_size)\n"
   ]
  },
  {
   "cell_type": "code",
   "execution_count": 327,
   "metadata": {},
   "outputs": [
    {
     "name": "stdout",
     "output_type": "stream",
     "text": [
      "[0, 1, 0, 1, 1, 1, 1, 1, 1, 1, 0, 1, 1, 1, 1, 1, 1, 1, 0, 1, 1, 1, 0, 1, 0, 0, 0, 0, 0, 0, 0, 0, 1, 1, 0, 1, 0, 1, 0, 1, 0, 0, 0, 0, 1, 1, 0, 1, 1, 0, 1, 1, 1, 1, 1, 1, 0, 1, 0, 0, 0, 0, 0, 0, 0, 0, 1, 0, 0, 1, 0, 1, 0, 1, 0, 1, 1, 0, 0, 1, 0, 1, 0, 1, 0, 1, 0, 1, 1, 1, 1, 1, 0, 0, 1, 1, 0, 1, 0, 0]\n"
     ]
    }
   ],
   "source": [
    "print(virus_population)"
   ]
  },
  {
   "cell_type": "code",
   "execution_count": 330,
   "metadata": {},
   "outputs": [
    {
     "name": "stdout",
     "output_type": "stream",
     "text": [
      "[0, 0, 1, 0, 1, 0, 0, 0, 1, 1, 0, 0, 0, 1, 1, 1, 1, 1, 0, 1, 1, 0, 1, 1, 1, 0, 1, 0, 1, 1, 1, 1, 1, 1, 1, 0, 0, 1, 1, 1, 1, 0, 0, 0, 1, 1, 0, 1, 0, 1, 0, 0, 0, 1, 1, 1, 1, 0, 1, 1, 1, 1, 0, 0, 0, 0, 1, 1, 0, 0, 0, 0, 1, 1, 1, 0, 0, 0, 0, 1, 0, 0, 0, 1, 1, 1, 0, 0, 1, 1, 1, 0, 1, 0, 1, 0, 0, 0, 0, 1]\n"
     ]
    }
   ],
   "source": [
    "np.random.shuffle(virus_population)\n",
    "print(virus_population)"
   ]
  },
  {
   "cell_type": "code",
   "execution_count": 333,
   "metadata": {},
   "outputs": [
    {
     "data": {
      "text/plain": [
       "[array([0, 0, 1, 0]),\n",
       " array([1, 0, 0, 0]),\n",
       " array([1, 1, 0, 0]),\n",
       " array([0, 1, 1, 1]),\n",
       " array([1, 1, 0, 1]),\n",
       " array([1, 0, 1, 1]),\n",
       " array([1, 0, 1, 0]),\n",
       " array([1, 1, 1, 1]),\n",
       " array([1, 1, 1, 0]),\n",
       " array([0, 1, 1, 1]),\n",
       " array([1, 0, 0]),\n",
       " array([0, 1, 1]),\n",
       " array([0, 1, 0]),\n",
       " array([1, 0, 0]),\n",
       " array([0, 1, 1]),\n",
       " array([1, 1, 0]),\n",
       " array([1, 1, 1]),\n",
       " array([1, 0, 0]),\n",
       " array([0, 0, 1]),\n",
       " array([1, 0, 0]),\n",
       " array([0, 0, 1]),\n",
       " array([1, 1, 0]),\n",
       " array([0, 0, 0]),\n",
       " array([1, 0, 0]),\n",
       " array([0, 1, 1]),\n",
       " array([1, 0, 0]),\n",
       " array([1, 1, 1]),\n",
       " array([0, 1, 0]),\n",
       " array([1, 0, 0]),\n",
       " array([0, 0, 1])]"
      ]
     },
     "execution_count": 333,
     "metadata": {},
     "output_type": "execute_result"
    }
   ],
   "source": [
    "viral_subpops = np.array_split(virus_population, cell_pop_size)\n",
    "viral_subpops"
   ]
  },
  {
   "cell_type": "code",
   "execution_count": 349,
   "metadata": {},
   "outputs": [
    {
     "name": "stdout",
     "output_type": "stream",
     "text": [
      "[1, 1, 1, 1, 1, 1, 1, 1, 1, 1, 1, 1, 1, 1, 1, 1, 1, 1, 1, 1, 1, 1, 1, 1, 1, 1, 1, 1, 1, 1, 1, 1, 1, 1, 1, 1, 1, 1, 1, 1, 1, 1, 1, 1, 1, 1, 1, 1, 1, 1, 1, 1, 1, 1, 1, 1, 1, 1, 1, 1, 1, 1, 1, 1, 1, 1, 1, 1, 1, 1, 1, 1, 1, 1, 1, 1, 1, 1, 1, 1, 1, 1, 1, 1, 1, 1, 1, 1, 1, 1, 1, 1, 1, 1, 1, 1, 1, 1, 1, 1]\n"
     ]
    }
   ],
   "source": [
    "#Randomly shuffle the viruses\n",
    "np.random.shuffle(virus_population)\n",
    "\n",
    "#keep track of viral fitness\n",
    "virus_pop_fitnesses = []\n",
    "\n",
    "\n",
    "#Distribute the viruses to their host cells\n",
    "#(n.b., this keeps the order intact in the splits)\n",
    "viral_subpops = np.array_split(virus_population, cell_pop_size)\n",
    "\n",
    "\n",
    "#Calculate fitness for each virus\n",
    "for subpop in viral_subpops:\n",
    "    type_counts = {COOPERATOR:np.count_nonzero(subpop==COOPERATOR), DEFECTOR:np.count_nonzero(subpop==DEFECTOR)}\n",
    "    total_payoffs = [payoff_matrix[individual][COOPERATOR]*type_counts[COOPERATOR]+\n",
    "                     payoff_matrix[individual][DEFECTOR]*type_counts[DEFECTOR] \n",
    "                      for individual in subpop]\n",
    "    \n",
    "    virus_pop_fitnesses += total_payoffs\n",
    "\n",
    "#Build the next viral generation by sampling with weights assigned by their fitness\n",
    "next_virus_pop = random.choices(virus_population, weights=virus_pop_fitnesses, k=len(virus_population))\n",
    "    \n",
    "virus_population = next_virus_pop\n",
    "print(virus_population)"
   ]
  }
 ],
 "metadata": {
  "kernelspec": {
   "display_name": "Python 3",
   "language": "python",
   "name": "python3"
  },
  "language_info": {
   "codemirror_mode": {
    "name": "ipython",
    "version": 3
   },
   "file_extension": ".py",
   "mimetype": "text/x-python",
   "name": "python",
   "nbconvert_exporter": "python",
   "pygments_lexer": "ipython3",
   "version": "3.8.5"
  }
 },
 "nbformat": 4,
 "nbformat_minor": 4
}
