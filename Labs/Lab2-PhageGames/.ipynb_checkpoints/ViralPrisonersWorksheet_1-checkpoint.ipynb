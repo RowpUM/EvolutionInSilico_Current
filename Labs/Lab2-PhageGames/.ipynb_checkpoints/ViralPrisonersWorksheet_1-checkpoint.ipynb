{
 "cells": [
  {
   "cell_type": "code",
   "execution_count": 3,
   "metadata": {},
   "outputs": [],
   "source": [
    "import numpy as np\n",
    "import random"
   ]
  },
  {
   "cell_type": "code",
   "execution_count": 4,
   "metadata": {},
   "outputs": [],
   "source": [
    "COOPERATOR = 0\n",
    "DEFECTOR = 1"
   ]
  },
  {
   "cell_type": "code",
   "execution_count": 5,
   "metadata": {},
   "outputs": [],
   "source": [
    "virus_pop_size = 100\n",
    "virus_population = random.choices([COOPERATOR, DEFECTOR], k=virus_pop_size)\n"
   ]
  },
  {
   "cell_type": "code",
   "execution_count": 6,
   "metadata": {},
   "outputs": [
    {
     "name": "stdout",
     "output_type": "stream",
     "text": [
      "[0, 1, 0, 1, 0, 0, 1, 1, 0, 1, 1, 0, 0, 0, 0, 0, 1, 1, 1, 1, 0, 1, 1, 1, 1, 1, 1, 0, 0, 0, 1, 1, 0, 1, 1, 1, 1, 0, 0, 0, 1, 0, 0, 1, 1, 1, 1, 0, 1, 1, 1, 0, 0, 1, 0, 0, 1, 0, 0, 1, 1, 0, 1, 1, 0, 0, 0, 1, 0, 1, 1, 1, 1, 0, 0, 0, 1, 1, 0, 1, 0, 0, 0, 0, 1, 0, 1, 0, 1, 0, 1, 1, 0, 1, 1, 0, 1, 1, 1, 0]\n"
     ]
    }
   ],
   "source": [
    "print(virus_population)"
   ]
  },
  {
   "cell_type": "code",
   "execution_count": 7,
   "metadata": {},
   "outputs": [
    {
     "name": "stdout",
     "output_type": "stream",
     "text": [
      "[0, 1, 0, 0, 0, 1, 0, 1, 1, 1, 1, 1, 0, 0, 1, 0, 1, 1, 1, 1, 1, 0, 0, 0, 0, 1, 1, 0, 1, 1, 1, 0, 1, 0, 1, 1, 1, 0, 1, 1, 0, 1, 1, 0, 1, 1, 0, 1, 1, 1, 1, 1, 1, 0, 0, 0, 0, 0, 1, 0, 0, 1, 1, 0, 0, 0, 1, 1, 1, 0, 1, 0, 1, 1, 0, 0, 1, 0, 1, 0, 1, 1, 0, 1, 0, 0, 1, 0, 0, 1, 1, 0, 1, 0, 0, 0, 1, 0, 1, 0]\n"
     ]
    }
   ],
   "source": [
    "np.random.shuffle(virus_population)\n",
    "print(virus_population)"
   ]
  },
  {
   "cell_type": "code",
   "execution_count": 8,
   "metadata": {},
   "outputs": [
    {
     "data": {
      "text/plain": [
       "[array([0, 1, 0, 0]),\n",
       " array([0, 1, 0, 1]),\n",
       " array([1, 1, 1, 1]),\n",
       " array([0, 0, 1, 0]),\n",
       " array([1, 1, 1, 1]),\n",
       " array([1, 0, 0, 0]),\n",
       " array([0, 1, 1, 0]),\n",
       " array([1, 1, 1, 0]),\n",
       " array([1, 0, 1, 1]),\n",
       " array([1, 0, 1, 1]),\n",
       " array([0, 1, 1]),\n",
       " array([0, 1, 1]),\n",
       " array([0, 1, 1]),\n",
       " array([1, 1, 1]),\n",
       " array([1, 0, 0]),\n",
       " array([0, 0, 0]),\n",
       " array([1, 0, 0]),\n",
       " array([1, 1, 0]),\n",
       " array([0, 0, 1]),\n",
       " array([1, 1, 0]),\n",
       " array([1, 0, 1]),\n",
       " array([1, 0, 0]),\n",
       " array([1, 0, 1]),\n",
       " array([0, 1, 1]),\n",
       " array([0, 1, 0]),\n",
       " array([0, 1, 0]),\n",
       " array([0, 1, 1]),\n",
       " array([0, 1, 0]),\n",
       " array([0, 0, 1]),\n",
       " array([0, 1, 0])]"
      ]
     },
     "execution_count": 8,
     "metadata": {},
     "output_type": "execute_result"
    }
   ],
   "source": [
    "cell_pop_size = 30\n",
    "\n",
    "viral_subpops = np.array_split(virus_population, cell_pop_size)\n",
    "viral_subpops"
   ]
  },
  {
   "cell_type": "markdown",
   "metadata": {},
   "source": [
    "## Just redefining things so we're starting fresh! "
   ]
  },
  {
   "cell_type": "code",
   "execution_count": 39,
   "metadata": {},
   "outputs": [],
   "source": [
    "payoff_matrix = [[1.00, 0.65],\n",
    "                 [1.99, 0.83]]\n",
    "\n",
    "COOPERATOR = 0\n",
    "DEFECTOR = 1\n",
    "\n",
    "virus_pop_size = 100\n",
    "cell_pop_size = 100\n",
    "\n",
    "virus_population = random.choices([COOPERATOR, DEFECTOR], k=virus_pop_size)\n",
    "\n",
    "np.random.shuffle(virus_population)\n",
    "viral_subpops = np.array_split(virus_population, cell_pop_size)\n"
   ]
  },
  {
   "cell_type": "markdown",
   "metadata": {},
   "source": [
    "## Calculate fitness, do selection, and replace the virus population with the next generation"
   ]
  },
  {
   "cell_type": "code",
   "execution_count": null,
   "metadata": {},
   "outputs": [],
   "source": [
    "#Randomly shuffle the viruses\n",
    "np.random.shuffle(virus_population)\n",
    "\n",
    "#keep track of viral fitness\n",
    "virus_pop_fitnesses = []\n",
    "\n",
    "\n",
    "#Distribute the viruses to their host cells\n",
    "#(n.b., this keeps the order intact in the splits)\n",
    "viral_subpops = np.array_split(virus_population, cell_pop_size)\n",
    "\n",
    "\n",
    "#Calculate fitness for each virus\n",
    "for subpop in viral_subpops:\n",
    "    type_counts = {COOPERATOR:np.count_nonzero(subpop==COOPERATOR), DEFECTOR:np.count_nonzero(subpop==DEFECTOR)}\n",
    "    total_payoffs = [payoff_matrix[individual][COOPERATOR]*type_counts[COOPERATOR]+\n",
    "                     payoff_matrix[individual][DEFECTOR]*type_counts[DEFECTOR] \n",
    "                      for individual in subpop]\n",
    "    \n",
    "    virus_pop_fitnesses += total_payoffs\n",
    "\n",
    "#Build the next viral generation by sampling with weights assigned by their fitness\n",
    "next_virus_pop = random.choices(virus_population, weights=virus_pop_fitnesses, k=virus_pop_size)\n",
    "    \n",
    "virus_population = next_virus_pop\n",
    "\n",
    "prop_cheaters = sum(virus_population)/virus_pop_size\n",
    "print(prop_cheaters)"
   ]
  },
  {
   "cell_type": "markdown",
   "metadata": {},
   "source": [
    "## 1. Spend 10 minutes or so writing a loop to explore the population dynamics over ~20 generations (maybe more?) and plot them.\n",
    "\n",
    "\n",
    "\n"
   ]
  },
  {
   "cell_type": "code",
   "execution_count": null,
   "metadata": {},
   "outputs": [],
   "source": []
  },
  {
   "cell_type": "markdown",
   "metadata": {},
   "source": [
    "## 2. What happens when you change the number of viruses expected per cell? This the MOI (multiplicity of infection) by the way! "
   ]
  },
  {
   "cell_type": "code",
   "execution_count": null,
   "metadata": {},
   "outputs": [],
   "source": []
  }
 ],
 "metadata": {
  "kernelspec": {
   "display_name": "Python 3",
   "language": "python",
   "name": "python3"
  },
  "language_info": {
   "codemirror_mode": {
    "name": "ipython",
    "version": 3
   },
   "file_extension": ".py",
   "mimetype": "text/x-python",
   "name": "python",
   "nbconvert_exporter": "python",
   "pygments_lexer": "ipython3",
   "version": "3.8.5"
  }
 },
 "nbformat": 4,
 "nbformat_minor": 4
}
